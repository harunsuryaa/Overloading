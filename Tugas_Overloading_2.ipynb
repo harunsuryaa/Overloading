{
  "nbformat": 4,
  "nbformat_minor": 0,
  "metadata": {
    "colab": {
      "provenance": [],
      "include_colab_link": true
    },
    "kernelspec": {
      "name": "python3",
      "display_name": "Python 3"
    },
    "language_info": {
      "name": "python"
    }
  },
  "cells": [
    {
      "cell_type": "markdown",
      "metadata": {
        "id": "view-in-github",
        "colab_type": "text"
      },
      "source": [
        "<a href=\"https://colab.research.google.com/github/harunsuryaa/Overloading/blob/main/Tugas_Overloading_2.ipynb\" target=\"_parent\"><img src=\"https://colab.research.google.com/assets/colab-badge.svg\" alt=\"Open In Colab\"/></a>"
      ]
    },
    {
      "cell_type": "code",
      "execution_count": 1,
      "metadata": {
        "id": "5zCytCeM1uD4"
      },
      "outputs": [],
      "source": [
        "#class Nama\n",
        "class Nama:\n",
        "  def hasil(self, *args):\n",
        "        kalimat = \"\"\n",
        "        for kata in args:\n",
        "            kalimat += kata\n",
        "        print(kalimat)"
      ]
    },
    {
      "cell_type": "code",
      "source": [
        "#Buat main program\n",
        "#Panggil fungsi untuk membuat nama lengkap 4 nama teman kalian\n",
        "coba = Nama()\n",
        "\n",
        "coba.hasil(\"Achmad\", \" Ifan\", \" Pratama\")\n",
        "coba.hasil(\"Rexza\", \" Arya\", \" Nanda\", \" Lubis\")\n",
        "coba.hasil(\"Irsyad\", \" Rizky\", \" Widodo\")\n",
        "coba.hasil(\"Romi\", \" Seti\", \" awan\")"
      ],
      "metadata": {
        "id": "liQBcJWZ12MN",
        "outputId": "5611f613-4866-4f4b-ccae-f63efcef2a95",
        "colab": {
          "base_uri": "https://localhost:8080/"
        }
      },
      "execution_count": 2,
      "outputs": [
        {
          "output_type": "stream",
          "name": "stdout",
          "text": [
            "Achmad Ifan Pratama\n",
            "Rexza Arya Nanda Lubis\n",
            "Irsyad Rizky Widodo\n",
            "Romi Seti awan\n"
          ]
        }
      ]
    },
    {
      "cell_type": "code",
      "source": [
        "Tuliskan kesimpulan dari materi Overloading menurut pemahaman anda!\n",
        "\n",
        "Overloading adalah teknik dalam pemrograman yang memungkinkan kita untuk mendefinisikan beberapa metode atau fungsi yang memiliki nama yang sama dengan\n",
        "parameter yang berbeda. Hal ini memungkinkan kita untuk membuat kode yang lebih fleksibel dan mudah digunakan dengan memiliki fungsi yang dapat beradaptasi\n",
        "dengan berbagai jenis parameter yang kita berikan. Dalam Python, overloading terjadi secara otomatis berdasarkan jenis dan jumlah parameter yang diberikan\n",
        "pada fungsi yang sama. Dalam kesimpulannya, overloading memungkinkan kita untuk menciptakan kode yang lebih efisien dan efektif dengan mengurangi jumlah\n",
        "kode yang dibutuhkan untuk menyelesaikan tugas yang sama."
      ],
      "metadata": {
        "id": "xwFmppIG3JGE"
      },
      "execution_count": null,
      "outputs": []
    }
  ]
}